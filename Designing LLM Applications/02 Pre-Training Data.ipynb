{
 "cells": [
  {
   "cell_type": "markdown",
   "metadata": {},
   "source": [
    "# About this Notebook\n",
    "This notebook outlines the process of gathering data for a LLM application. This is important because it allows us to understand the ingredients of an LLM and thus decipher how and why it may be behaving in certain way. \n",
    "\n",
    "Pre training for properietary models is not transparent, so it is diffcult for us to know how and why models such as GPT-4, Claude, and Llama are behaving in certain ways. \n",
    "\n",
    "By gathering data from the internet, we can train our own models to understand how they are behaving. \n"
   ]
  },
  {
   "cell_type": "markdown",
   "metadata": {},
   "source": [
    "### Ingredients of an LLM \n",
    "\n",
    "1. Pretraining Data \n",
    "Garbage in, garbage out. In this notebook we will explore popular pretraining data sets and dig into preprocessing steps taken to ensur ehigh quality data is fed into our models. \n",
    "\n",
    "2. Vocabulary and Tokenizer\n",
    "In order to builda model over a langauge, we have to first determine the vocabulary of the language we are modelling. We also need to break the stream of text into the corerect vocabulary units, referred to as tokenization. \n",
    "\n",
    "3. Learning Objective\n",
    "What is the model being trained to do? Pretraining focuses on general skills such as syntax, semantics, reasoning etc such that it can handle any task we throw at it, even if it was not explicitly trained on it. Therefore training objectives should be sufficiently general to capture all these skills. \n",
    "\n",
    "4. Architecture\n",
    "What is the internal architecture of the model? How does it process information? The arhcitecture refers to the components of the model, how they connnect and interact with each other and how they process input. Each architecture has its own inductive bias, a set of assumptions made about the data and tasks it will be used for. Biaising the model towards certain types of solutions can lead to better performance on certain tasks. \n",
    "\n",
    "5. Fine Tuning. \n",
    "The above described is the base model. We can then fine tune the model using supervised instruction fine tuning, RLHF, domain adaptive or task adaptive continured pretraining, so that the model is better attuned to specific domains and tasks.\n",
    "\n",
    "# \n",
    "# ![Base Models and Derivatives](images/basemodels_and_derivatives.png)\n",
    " Base models are pretrained on large amounts of data and can be fine-tuned into derivative models for specific tasks and domains\n",
    "# \n"
   ]
  },
  {
   "cell_type": "markdown",
   "metadata": {},
   "source": [
    "### Popular Pre Training Datasets\n",
    "# ![Popular Pre Training Datasets](images/popular_pretraining_datasets.png)\n"
   ]
  },
  {
   "cell_type": "markdown",
   "metadata": {},
   "source": [
    "### Exploring content of pre training datasets"
   ]
  },
  {
   "cell_type": "code",
   "execution_count": 7,
   "metadata": {},
   "outputs": [
    {
     "name": "stdout",
     "output_type": "stream",
     "text": [
      "{'text': 'Kerth, 67, was selected from 164 applicants to be the organization’s new chief executive. He sits on the board of the Sacramento Municipal Utility District and is a scion of the Kerth family who founded the American Ice Co. and the Iceland skating rink in North Sacramento. He is responsible for the design of ice rinks in what’s now called Sleep Train Arena in Sacramento and an outdoor rink at Squaw Valley’s High Camp in 1990.\\nVeteran nonprofit leader Pam Saltenberger, who served as Sacramento Habitat’s interim CEO for about six months, said she and other members of the executive search team felt that Kerth’s experience in the political arena would help the organization lead and navigate discussions about how governments and nonprofits can work together to ensure there’s adequate housing for low-income residents.\\nThe loss of government funding is not the only challenge for the Sacramento Habitat, which has a budget of $5.9 million for the fiscal year ending in June. Nationwide, Habitat affilitates have begun hearing from some corporate sponsors that want their dollars stretched to help more than just one family.\\nHabitat affiliates across the country have begun offering neighborhood revitalization programs, and the Sacramento-based organization launched its effort last year with a work project in West Sacramento. Habitat volunteers worked on several homes in one neighborhood, doing things like replacing building materials damaged by dry rot, painting homes, fixing or putting on new roofs.\\nKerth said that, as a community activist and politician, he’s seen a new Habitat home turn around neighborhood decay as well.\\nThe Sacramento Habitat affiliate has begun to put particular emphasis on interfaith home-building projects, an endeavor that Saltenberg said has taken off with advocacy from board member Jeff vonKaenel, publisher of the Sacramento News & Review. Essentially, she and Kerth said, it’s an opportunity for people of all faiths to sponsor a home, volunteer to work on a home-building project or do both.\\nThe idea is that, if people of all faiths can work beside each other for a common goal, they can share faith stories if they choose and gain understanding to stem the tide of any negative rhetoric that rises against one particular faith, Saltenberger said.\\nAnd, they will be working side by side with the person selected to buy the Habitat home, said Kerth, who served on the Sacramento City Council from 1992-2000. He stressed that Habitat is not a giveaway program. Those who qualify to buy a home pay for it with their sweat equity and a no-interest mortgage. Their payments ensure that the organization can continue its mission.', 'timestamp': '2019-04-20 12:41:14', 'url': 'https://www.sacbee.com/news/business/biz-columns-blogs/cathie-anderson/article63936322.html'}\n",
      "{'text': \"Two slaughtermen have been sacked after an undercover investigation exposed shocking cruelty to horses at an abattoir.\\nThe disturbing video shows them being beaten with metal poles and illegally stunned in groups of up to three at a time before being killed.\\nIn one horrifying moment a stunned horse appears to regain consciousness, only to find itself hanging upside down and about to have its throat cut.\\nThe footage was captured at the Red Lion Abattoir, near Nantwich, Cheshire, after an eight-week investigation by animal welfare group Hillside.\\nThey also saw horses which appeared to be sick or injured and hadn't been immediately put down.\\n'It's unbelievably depressing there. They shouldn't be stunned or shot in front of each other like that.\\nThe scandal emerged as several British supermarkets have been exposed as selling frozen beef burgers which contain horse meat.\\nThe alert was first raised by Irish food watchdogs after horse DNA was found in burgers sold through Tesco, Iceland, Aldi, Lidl and Dunnes in Ireland.\\nIt subsequently emerged that burgers from the same batches were sold in the British outlets of both Tesco and Iceland.\\nIncredibly, the beef content in one Everyday Value burger sold by Tesco was actually 29 per cent horse meat.\\nThe horses at the Red Lion Abattoir are believed to be butchered for European food markets.\\nUnder the Welfare of Animals Act 1995, horses cannot be slaughtered in sight of another horse as it causes severe distress to the animal.\\nThe footage, which has been uploaded to YouTube, shows three horses crammed into a tiny pen before being stunned.\\nThe Food Standards Agency told the Daily Mirror it has revoked the licences of two slaughtermen after a probe into the video.\\nFSA head of approvals Craig Kirby said: 'As soon as we got the footage and reviewed it we took immediate action to revoke the slaughtermen's licences.\\nThe Red Lion Abattoir told Sky News it views animal welfare and public health with paramount importance.\\nIt said the incidents were 'not the norm, but of an isolated nature' and they have taken disciplinary action against the individual featured.\\nThe statement continued: 'I agree horses should individually enter the stunning area and most certainly not three at a time.\\n'However, small horses and ponies having spent years together as companions are difficult to separate. Horse lovers would understand that.\\nAn RSPCA spokesperson said the organisation is viewing the footage and will decide whether to prosecute.\\nIn a statement it said: 'The footage is shocking and upsetting to watch. With the Welfare of Animals (Slaughter or Killing) Regulations 1995 in mind, we have concerns that horses appear to be in the stunning pen at the same time rather than individually as the law requires.\\nFormer government chief veterinary officer Keith Meldrum, who viewed the footage, has told Sky News he was shocked by the 'appalling' breaches of animal welfare.\\n'We see three animals stunned at the same time and it is totally illegal and contrary to welfare slaughter regulations,' he said.\\nRoly Owers, chief executive of World Horse Welfare, said: 'The breaches, from what we've seen, are throughout; from the care of the animals to the slaughter process.\", 'timestamp': '2019-04-24 14:10:03', 'url': 'https://www.dailymail.co.uk/news/article-2264972/Cruelty-horses-exposed-Red-Lion-Abattoir-Hillside-animal-welfare-group.html'}\n",
      "{'text': 'EXCLUSIVE: Ed Zwick is in talks to helm Pawn Sacrifice, the drama that will star Tobey Maguire as troubled chess wiz Bobby Fischer, the prodigy who captured who captured the world’s imagination when he won the World Chess Championship over Russian Boris Spassky in a Cold War-era match that drew international media attention. Fischer had a rougher time after that as he straddled the line between genius and madness. He faded from view, living abroad and surfacing to make anti-American and anti-Semitic statements. He lived in exile in Iceland until he died.\\nMaguire is producing through his Material Pictures banner with Gail Katz through Gail Katz Productions. Steven Knight wrote the script. Zwick replaces David Fincher, who had developed to direct the film. Zwick had been expected to direct The Great Wall for Legendary East, a project that is somewhat up in the air as a new backer in Asia is being secured. The film is being prepped to begin production next year, and Maguire’s Material partner Matt Plouffe is shepherding. Zwick is repped by CAA. Maguire is filming Jason Reitman’s Labor Day, and stars in the Baz Luhrmann-directed The Great Gatsby next summer. He’s repped by WME and Management 360.', 'timestamp': '2019-04-22 18:23:27', 'url': 'https://deadline.com/2012/08/ed-zwick-to-helm-pawn-sacrifice-with-tobey-maguire-as-chess-wiz-bobby-fischer-319678/'}\n",
      "{'text': 'Losing my sense of taste for a time a while ago, I invited our metropolitan daughter to bring me Christmas goodies that might, in passing, shock a numbed palate to respond.\\nExotic savouries, pastes and unguents assembled from Dublin delis (establishments smelling deliciously, I remembered, of salamis and pungent cheeses) had chilli as a constant ingredient, from merely piquant to head-blowing on the Scoville scale of heat.\\nMy taste later restored (perhaps all on its own) and the chilli toned down, the Christmas deli hamper became a family tradition. Among its salty pleasures has been a regular jar of lumpfish caviar, the modest gourmet’s echo of oligarch party fare.\\nLumpfish – more properly lumpsucker fish, Cyclopterus lumpus, common around the coasts of these islands – has pelvic fins that shape into a sucker and bony plates on its sides. Baby fish, somewhat toad-shaped, are now, it seems, widely regarded as “cute” and kept as pets in aquariums.\\nThey have found a new, better use as cleaner fish in salmon farms, plucking off the parasitic sea lice as perfectly palatable copepods. Millions of them are now employed globally, sometimes replacing the wrasse rockfish first selected for the job. A lumpsucker farm in Shetland, for example, supplies lumpsucker cleaner fish raised from eggs supplied from a caviar factory in Iceland.\\nAn adult female lumpsucker can reach 60cm. Coming inshore to spawn, she sticks herself firmly to a rock, impervious to Atlantic swells and storms. She lays a large mass of eggs – up to 136,000 – and then retires to deeper water, leaving the male to look after them for weeks.\\nThe more I learn about lumpfish caviar the more I’m now inclined to forgo this Christmas morsel (best washed down, I’m told, with vodka). Female fish caught with inshore gill nets, notably along coasts of Greenland and Iceland, are gutted for their roe, then discarded overboard. The eggs are taken ashore in barrels to be desalted and salted again to market taste, pasteurised and dyed red or black, with EU-approved preservatives.\\nHow, after all, did I think ersatz “caviar” was produced at prices a fraction of the real stuff from wild sturgeon of the Caspian Sea? Beluga caviar retails at up to €10,000 a kilo; in a current Dublin comparison, 100g of lumpfish caviar costs €5.45 and 30g of beluga €289.80.\\nThe latter’s glistening black pearls, popped between one’s teeth, are said to taste delicately of “walnuts and cream” rather than something exquisitely, differently fishy, which is what one might have hoped.\\nSturgeon are an ancient family of 24 species, armoured with rows of bony plates. Barbels beneath a pike-like snout feel around for food on the bed of sea or river. Left alone to grow for a century or more they can become the largest freshwater fish in the world, nearing the bulk of the ocean’s basking shark.\\nBut they have rarely been left alone. When the USSR broke up, its management networks collapsed and fishermen in the Caspian Sea’s coastal states (Russia, Azerbaijan, Kazakhstan and Turkmenistan) embraced free enterprise as fast as they could set their gill nets. By 1997 illegal trade and unsustainable harvesting had prompted a tangle of international controls.\\nFewer than 100 beluga a year are now taken legally from the Caspian and shared between Russia and Iran, on the sea’s southern shore. Other small wild stocks survive precariously in Europe, and species of Siberian sturgeon have been introduced in some big lakes and rivers.\\nBut land-based farming for caviar has grown intensively since the 1980s, ranging from the United States to China. The biggest caviar factory in the world was opened last year in Abu Dhabi, as part of the UAE’s diversification from oil.\\nSetting up a caviar farm is costly, as captive female sturgeon can take years to start producing eggs. Traditionally, wild fish have been slaughtered for them, like the lumpfish, and their veal-like meat readily marketed. Aquaculture has brought more refined and repeated harvesting of eggs from the same living fish, by varying methods of delivery.\\nIreland once had wild sturgeon, like the stuffed one on display in the Natural History Museum in Dublin, caught in 1890. As one of Ireland’s “lost species” it appears in Whittled Away, the recent book from the wildlife conservationist Pádraic Fogarty. As he relates, the European sturgeon, Acipenser sturio, was possibly “commonplace” up to the 18th century and breeding in Irish estuaries.\\nThe most thorough historic research, by Dr Declan Quigley of Dingle, found confusion between the European sturgeon and migrant Atlantic sturgeon from North America. Tracing 243 Irish newspaper reports of sturgeon since 1738, he concludes that landing one (often from salmon nets) was a relatively rare and newsworthy event. The last sturgeon, weighing 105kg, and captured in 1987, off the Kish Bank Lighthouse, was sold wholesale at €112 a kilo.\\nDr Quigley’s detailed research, originally published in Sherkin Comment, can be downloaded by googling “researchgate declan quigley sturgeon”.', 'timestamp': '2019-04-21 10:39:49', 'url': 'https://www.irishtimes.com/news/environment/beluga-sturgeon-and-the-secrets-of-your-christmas-caviar-1.3319419'}\n",
      "{'text': \"Welshman Sam Vokes scored on his 100th Premier League appearance as the Clarets secured their first ever win at the Cardiff City Stadium.\\nBurnley last beat the Bluebirds on their own patch 18 years ago when Steve Davis and Andy Payton netted in a 2-1 win at Ninian Park.\\nThey'd only won twice in 20 attempts away at Cardiff and eight times in total from 42 fixtures but they put that record behind them to seal three vital points.\\nFor those switching over from the Ryder Cup, having experienced the exhilarating highs as Europe triumphed over the United States, they would soon be reminded that sport isn't always gripping.\\nThe first half at the Cardiff City Stadium didn't exactly live up to its billing on Sky Sports. A 'Super Sunday' it certainly wasn't.\\nBurnley managed just one shot on goal in 45 minutes but Matej Vydra's attempt was more suited to the national sport of Wales. Even then, however, the forward's attempt would have been wide of the upright.\\nCallum Paterson's attempt for the Bluebirds wasn't much better, either. The 23-year-old dragged the ball wide of the target after Joe Ralls had collected Ben Mee's clearance.\\nAs the Clarets struggled to get a foothold in the game, Neil Warnock's side continued to press and Joe Hart had his woodwork to thank after Josh Murphy broke in to the box from the left hand side.\\nBurnley boss Sean Dyche was forced in to a change midway through the first half as James Tarkowski, struggling with a shoulder injury, was replaced by Kevin Long.\\nHart has been in fine form since joining the Clarets in the summer and the England international had to be at his best to deny Victor Camarasa at his near post after the Spaniard latched on to Paterson's pass.\\nThe home side had the ball in the back of the net with 10 minutes of the half remaining but referee Martin Atkinson pulled play back after spotting an infringement.\\nCity skipper Sean Morrison was the guilty party, climbing on the back of Long from Camarasa's corner as Zohore flicked the ball past Hart.\\nThe Bluebirds almost had their noses in front just before the break when Vokes inadvertently glanced Morrison's header in to the six yard box and Paterson's looping header was cleared off the line by Vydra.\\nCity appealed desperately for a penalty in time added on as Paterson acrobatically fired in to the arms of Matt Lowton but the cries fell on deaf ears.\\nViewers would have been forgiven for switching off to catch the celebrations in Paris but they would have missed Johann Berg Gudmundsson's opener.\\nQuick thinking from Aaron Lennon caught the hosts by surprise and Ashley Westwood's cross was converted at the far post by the Icelandic winger, who had to check twice to make sure that his header had beat Neil Etheridge.\\nCamarasa fired over on the volley as Cardiff responded and they levelled on the hour as Burnley left their dangerman unmarked.\\nBruno Ecuele Manga was allowed to get in behind on the right and his cross was fired back in the direction it came from by Murphy who picked out the corner.\\nThe equaliser lifted the home side and it was Murphy who continued to threaten. The winger was denied by a fine save at full stretch from Hart and then Long took the sting out of his left-footed drive which the goalkeeper collected at his near post.\\nBurnley had been struggling to find their rhythm but they played all the right notes with 20 minutes remaining as they restored the lead.\\nJack Cork and Westwood kept the ball in midfield before the latter caught Sol Bamba flat-footed, lifting the ball over the top to Gudmundsson.\\nThe goalscorer then turned provider, teeing up Vokes who headed in to the far corner to make it 2-1.\\nThe hosts pressed for another equaliser but Camarasa and Murphy were both off target as the Clarets held on to record a second win in succession.\", 'timestamp': '2019-04-21 09:09:29', 'url': 'https://www.pendletoday.co.uk/sport/football/cardiff-city-1-burnley-2-1-9373901'}\n",
      "{'text': 'Concrete is a building material made of water, gravel, sand, limestone, shells, chalk, clay and iron ore. It’s used ubiquitously in construction from building foundations to sidewalks, roads and bridges. Its lifespan tends to be only about 50 years, and its manufacture is associated with significant negative environmental impacts — including emissions of air pollutants and about 5 percent of global CO2 levels. If exposed to water, its lifespan is reduced even further.\\nUniversity of Utah geologist Marie Jackson recently discovered the reason behind the durability of Roman concrete.\\nThe material is made of quicklime, seawater, volcanic ash and rock. After curing, when the porous cement was placed in the ocean, the water filtered through it and broke down components of the volcanic ash. New minerals, called Al-tobermorite and phillipsite, formed. With small crystals shaped like plates, the rare minerals locked together to strengthen the structure. The concrete grows stronger with time as more exposure to seawater means more mineral growth. It also means the cement has some capacity to heal itself.\\nMaking the concrete is also considerably more sustainable than the manufacture of modern concrete.\\nWhile she is primarily interested in the process itself, Jackson said the concrete would work well for the type of structures the Romans used it for — breakwaters and seawalls. However, she noted that those structures have negative environmental impacts of their own — they can destroy tidal ecosystems, which harms wildlife and can make their surroundings more vulnerable to storms.\\nThe material wouldn’t be useful in all circumstances, because the process requires time and the concrete isn’t as strong under compression as modern concrete is. However, Jackson would like to see the material used as barriers around waste repositories and for nuclear waste treatment and disposal.\\nShe has also advocated for its use in a tidal lagoon that’s being proposed in the United Kingdom. It would need to operate for about 120 years to recuperate the costs of construction, and modern concrete would not be able to last that long.\\nBefore it can be used in construction, though, the recipe for the material must be found. Scientists know what’s in the concrete, but they don’t know exactly how to make it. Even if they did, the volcanic rock and ash component isn’t readily available in most of the world.\\nJackson traveled to Iceland on July 17 to drill into a volcano named Surtsey to look for more insight into the process, which sometimes happens naturally at volcanic sites. She and a team of researchers hope to drill a core 500 meters deep. Jackson is also working with a geological engineer to find substitutes for the volcanic ingredients.', 'timestamp': '2019-04-23 06:51:11', 'url': 'http://dailyutahchronicle.com/2017/07/26/geolosist-determines-ancient-roman-concrete-still-stands/'}\n",
      "{'text': 'Shailesh Deshpande is a Virginia Tech grad who lost his fight to stay after working for several U.S. consulting firms.\\nNew York (CNNMoney) - An immigration system overhaul might finally address a growing problem: America\\'s brain drain.\\nSmart foreigners who study at U.S. universities - often at taxpayer expense through scholarships - face a tough fight after graduation if they want to stay in the country.\\nMany share the experience of Shailesh Deshpande, who lost his fight to stay after graduating from Virginia Tech. He returned home to India and is now launching a company there.\\n\"Don\\'t hate me when I take jobs away from U.S. shores,\" he said. \"Blame your government for it.\"\\nThere\\'s fear U.S. immigration laws could cripple the nation\\'s economic growth. That\\'s why a group of senators this week suggested creating a fast track to award green cards to foreign students in STEM fields (science, technology, engineering and math).\\nThe current system sets quotas that limit individual countries to no more than 7% of all green cards. That makes it harder for applicants from India or China, compared to applicants from Belgium or Iceland.\\nImmigrants make up a surprisingly large share of STEM students in Master\\'s and Ph.D programs: more than 40%. The sheer number has ballooned to 205,600 students as of 2011, according to Immigration and Customs Enforcement records.\\nAlthough federal officials say it\\'s difficult to accurately track how many of them leave, companies and colleges that interact with foreign students say they are increasingly being driven out of the country.\\nThe current system sets quotas that limit individual countries to no more than 7% of all green cards. So, the current system would keep a Pakistani who is doing a masters in Islamic studies but deport a Chinese or Indian who got a Ph.D. in engineering. Why keep so many Muslims who only increase the cost of security? Ludicrous.\\nYou are such a smart individual! 🙂 I am amazed!! 1. A Pakistani who gets Masters in Islamic Studies will not get job in the US job Market, therefore he can not apply for Green Card through job. 2. International Students, who pays a ton to go to college here almost never studies subject like Islamic/Christian/Jewish/Hindu Studies in college, they get degrees in STEM field and that is true for stduent from any countries including Pakistanins. 3. US is not the best place to study Islamic Studies, it is the best place to study Science/Technology/Business etc. I would suggest you to have some brain transpplant to increase the volume and quality of it in your head, I assure you you will be benefitted. And please stop hating Muslims, there are good people, bad people, average people among people from Muslim countries just like like any other religion. Thanks.\\nMy opinion on gun comtroll is that, I think people should be able to have guns, because some people go out hunting,then bring home a bird or something to eat, other people have guns for protection.\\nI think that if we take out the guns all together, murder and massacre will go down but like drugs, if they are made illegal it might get out of control and maybe increase. I think it really depends on who is on which side and how strongly they feel and if it\\'s enough to take out their anger out on the public.', 'timestamp': '2019-04-25 22:36:53', 'url': 'http://schoolsofthought.blogs.cnn.com/2013/02/04/americas-brain-drain-dilemma-immigrant-students-who-leave/'}\n",
      "{'text': 'Wouldn’t you rather be a rich nobody than whatever Mark Zuckerberg is?\\nMy MySpace profile was abandoned when, at the ripe age of 18, I decided it was just a little too juvenile — the glittering GIFs affixed to every page, the garish customized designs, the pressure on maintaining your top 8. By 2006, Facebook offered a cleaner social experience; by 2009, Twitter offered a more casual one. MySpace was a complete relic by this point, even though only a few years had passed since its launch.\\nBack in 2005, though, long before MySpace burned out, its founder, Tom Anderson — whose grinning face greeted every new user as their first “friend” — sold the site for $580 million to Rupert Murdoch’s News Corporation. While his site was becoming a punchline during the rise of Facebook, Twitter, Instagram, and the other social media networks we now use everyday, Anderson disappeared entirely from the tech scene. Now, he travels the world, documenting his visits to exotic locations.\\nContrast that with what’s currently happening to Facebook’s Mark Zuckerberg, who’s on day two of being grilled by a Senate committee for Facebook’s role in haphazardly collecting all of our personal data, and possibly swinging the 2016 presidential election toward Donald Trump. What was supposed to be a basic networking tool has now become one of the chief mediators of how people interact with each other and the world around them, and how information is absorbed and disseminated on the internet. It’s now apparent that Facebook and Zuckerberg didn’t really consider any of this when aggressively pursuing growth, and now we’re all screwed as we try to untangle the consequences.\\nMySpace Tom? His most recent Instagram post from seven days ago is a giveaway for a stay at an Iceland hotel. He doesn’t have to issue any terse statements about his company’s commitment to fostering a healthy society; he doesn’t have to sit on a booster seat for seven hours and take dipshit questions from a procession of Senate ghouls. He isn’t worth as much money as Zuckerberg, of course, but unless you’re an oil baron, $580 million is enough to tide you over for the length of your lifetime, and your children’s lifetime, and your children’s children’s lifetime, and so on. (Even after taxes!) And yes, yes, being that rich is good for nobody, but without getting into an argument about the perils of capitalism, we can agree that personally speaking, Anderson is having a much better go of things.\\nIt puts MySpace’s failure to evolve in a new light, as perhaps the healthy thing is for a platform to die and for everyone to move on. Its aesthetic and form, back when everyone had emo bangs and listened to Hawthorne Heights, couldn’t change without altering the meaning of the site altogether, and by that time, everyone was gone. Had Facebook not gotten too good at inserting itself between human users, there’s no way it would’ve run into their current problems at such a wide scope. The suspicious CEO is not the one who cashes out; it’s the one who sticks around and creates a behemoth.\\nZuckerberg could have sold off his share and avoided becoming literally one of the most disliked people in the present moment. I never thought we’d declare MySpace the winner over Facebook, but then again, I never thought a lot of things about the moment we’re in.\\nWe’ll get out of your way when it’s time, but for now... subscribe.', 'timestamp': '2019-04-21 08:16:22', 'url': 'https://theoutline.com/post/4137/myspace-tom-mark-zuckerberg-facebook'}\n",
      "{'text': 'Melissa Auf Der Maur has been forced to cancel her London Cargo show tomorrow (April 17) because she is stuck in Helsinki.\\nBecause of the volcanic dust from Iceland grounding many flights in Europe the bassist/singer has been forced to pull the show.\\nAuf der Maur is planning to reschedule the show soon. Fans are advised to hold on to tickets for any rescheduled gig, although refunds will be available from points of purchase.\\nSome UK bands, including The Cribs, have been forced to cancel Coachella festival appearances because of similar flight problems.', 'timestamp': '2019-04-22 03:06:08', 'url': 'https://www.nme.com/news/music/melissa-auf-der-maur-3-1288259'}\n",
      "{'text': 'LONDON (REUTERS, THE TIMES, LONDON) - Two of South America\\'s deadliest forwards are still expected to be fit for the World Cup despite a premature end to their respective domestic seasons.\\nEnglish Premier League champions Manchester City on Tuesday (April 17) said Argentina striker Sergio Aguero will likely miss the rest of their term following knee surgery.\\nAguero, who has not started a match since City\\'s 1-0 league victory over Chelsea on March 4, injured the knee in training a month ago, and then aggravated the problem after a challenge by Ashley Young in the 2-3 loss to Manchester United on April 7.\\nHe played the final 24 minutes against Liverpool in City\\'s 2-1 Champions League quarter-final, second-leg defeat last Tuesday, but was in so much pain that he could barely walk afterwards so City sent him to see a specialist, who advised he undergo keyhole surgery .\\nAguero is likely to miss City\\'s final five games of the season, the last of which comes on May 13 away to Southampton.\\nArgentina\\'s first World Cup group-stage game, against Iceland, does not take place until June 16, so Aguero remains confident he will have time to get back to his best for the tournament.\\nEarlier on Tuesday, Aguero tweeted: \"Recovering from an arthroscopy on my knee. Fully motivated to get back soon to the field.\"\\nWith the title wrapped up and City\\'s Champions League campaign ended by Liverpool, the club should be able to cope without their all-time leading scorer, who has 199 goals for the club after scoring 30 in all competitions this season.\\nOn Tuesday, injured Brazil striker Neymar has revealed May 17 as the date he has set for a return to training following foot surgery.\\nThe Paris Saint-Germain star is currently recuperating in Sao Paulo after undergoing an operation on a fractured metatarsal suffered during a 3-0 French Ligue 1 win over Marseille on Feb 25.\\nThe world\\'s most expensive player at €222 million (S$359.9 million) expects to be training exactly a month before the five-time champions play their World Cup opener against Switzerland on June 17.\\n\"I get my final exam, if I\\'m not mistaken, on May 17 and then I\\'ll be free to play,\" he told reporters at a news conference in Sao Paulo.\\n\"I had an exam last week, it is all perfect, evolving well, so I hope that continues so I can get back as soon as possible... I am having treatment every day, and from the moment I start training, I am going to work harder than I ever worked because this is a dream that\\'s coming up, it\\'s a World Cup.\\n\"I\\'ve waited four years for this chance, it\\'s close and I hope to get there in great shape.\"\\nNeymar, who has scored 28 goals in all competitions for the French champions this season, also admitted he was apprehensive about kicking a football again after almost three months out.\\n\"Of course, doubts exist and I feel them too sometimes, but that\\'s normal for a guy who has had the first surgery of his career. It\\'s very difficult for me not playing and not training.\\n\"I am more rested, that\\'s the upside. We have to see the positive side of things.\"', 'timestamp': '2019-04-23 08:24:14', 'url': 'https://www.straitstimes.com/sport/football/football-sergio-aguero-neymar-hope-to-be-ready-for-world-cup'}\n",
      "{'text': 'Global Polling: Which Nations Are Happiest? Unhappiest?\\nThe resulting raw percentages were posted online at “WIN/Gallup International’s 40th Annual Global End of Year Survey”, but the nations weren’t ranked there; W/G’s report is more like a data-dump than like a report.\\nSo, based upon their numbers, I have here actually ranked the 69 nations, from the happiest, to the unhappiest, according to WIN/Gallup’s own calculations of “Net happiness,” which are their study’s bottom-line figures for each nation. WIN/Gallup says that “Net happiness (happy minus unhappy) globally is +59%,” and this indicates that the world’s average person is happy with his/her life, but not very happy with it. That’s good performance, but not terrific, worldwide.\\nHowever, as will be explained below this first-ever presentation of W/G’s rankings, the figures upon which the “Net happiness” calculations were based could be deceptive, because they largely reflect people’s expectations of whether things are getting better in their country, or instead getting worse there; this measure of ‘happiness’ is an indication “about your life,” instead of a report that necessarily reflects how they feel right now (or how they did feel at the time they were answering the question). Nobody knows for certain about his/her “life,” but only about what it was or has been, at times that a pollster’s question might specify in the most recent past, such as “yesterday” — anything that’s in the future, even “tomorrow,” or the totality of “your life,” is partly speculative, and might be somewhat unrealistic. (Furthermore, people might be more optimistic in some cultures, and more pessimistic in others, and yet the difference might have little to do with how happy the people there are.) A survey to determine a population’s actual “happiness” shouldn’t invite its respondents to be at all speculative. This is a fundamental methodological flaw in the WIN/Gallup study, but it’s common for pollsters to be so sloppy about wording the questions they’re asking; and no poll-results can be any clearer (i.e., any more meaningful) to interpret, than were the questions which were asked. WIN/Gallup is normal in this regard. They’d deserve a “C” rating on meaningfulness. But that’s still something; their findings aren’t total trash — these data weren’t an utter waste of their time and money to produce (and of readers’ attention to consider), but the results do indicate some combination of how happy a person is, mixed in with how happy the person expects the rest of his/her life to be. And they should be interpreted in that light.\\nThe most optimistic countries about economic prosperity are Ghana and Bangladesh (+67% net optimistic each). In contrast, South Korea, Hong Kong and Greece are the most pessimistic (-62%, -56% and -53% respectively).\\nOne might therefore say that Iraqis had the least optimism and hope, whereas Fijians, Colombians, and Chinese, had the most. Of course, if two other countries besides Iraq, which were also recently invaded and destroyed by the U.S. — such as Syria and Libya — had been surveyed by W/G, they might have scored even lower than Iraq did, but Syria and Libya were excluded from W/G’s poll. So: scoring at the bottom of these 69 countries doesn’t necessarily mean being the worst in the world.\\nThe fact that U.S., Bosnia, Estonia, and UK, occupy spots 33 through 36, right in the middle of the list of the 69 countries, and yet they have 47% to 48% net-happiness, which is considerably lower than the 59% global average of happiness, is due to the smaller-population countries dominating the lower half of the list, and the larger-population countries dominating the upper half. The bigger-population group above these middle four, tend to be the larger-population countries.\\nTo provide a fuller picture of “happiness” or “welfare” around the world, the findings by other prominent systems for ranking “Happiness” or “Well-Being” in the world’s nations will here be summarized.\\nThe bottom 20, starting with the worst, were: Afghanistan, Bhutan, Cameroon, Togo, Tunisia, Congo, Ivory Coast, Benin, Haiti, Ghana, Zimbabwe, Madagascar, Uganda, Senegal, Burundi, Chad, Egypt, Ukraine, China, Georgia, Zambia.\\nDenmark, Finland, Iceland, Norway, Switzerland, Canada, Netherlands, Sweden, Australia, New Zealand, Ireland, UK, Germany, Austria, Belgium, Spain, Japan, U.S., France, Portugal.\\nThe bottom 20 there are mostly the same as shown in both of the U.N.’s bottom-20 lists.\\nAt the bottoms of all of these rankings tend to be the poorest and most heavily exploited former colonies, whereas the tops of these lists are much more variable, because some of the lists measure actually a combination of happiness and hope. The people in the bottom-ranked countries combine low happiness with low hope; so, at the bottoms of all of these lists tend to be found the same countries, though in different orders of misery or rankings, from one-another.', 'timestamp': '2019-04-19 11:12:27', 'url': 'https://www.globalresearch.ca/global-polling-which-nations-are-happiest-unhappiest/5602001'}\n",
      "{'text': 'By Ariadne Dimoulas – This article series will look into inventions shaping today’s seascape. How has our mariner history resulted in today’s groundbreaking inventions? Which inventions direct our future? What is the catalyst for these inventions, meaning what is the intersection between a particular place and particular person that causes such a revolutionary spark? Finally, we will take a look at the story of a particular invention shaping the marine world today with far-reaching consequence for tomorrow.\\nThere is a saying “necessity is the mother of inventions”, yet defining the spark of an invention as a simple human or societal need doesn’t fully describe what an invention is, or its place in humanity. When we consider today’s boats, planes, trains, cars, phones etc. it seems obvious to consider our species modern existence is possible only because of inventions. Perhaps less obvious are how inventions in systems such as agriculture and aquaculture have shaped what we eat. Inventions in microscopes shaped our understanding of disease transmittal and therefore increased our longevity. Inventions in water transport from Greeco-Roman aquifers to modern sewer systems have influenced the development of communities into a world that now boasts 31 mega-cities, on a trajectory of 41 megacities by 2030, where a mega city has more than 10 million residents.\\nMany times inventions can be conceived through the blending of necessity, expertise, and circumstances. Arctic ship developments and improved ballast water treatments could be considered examples of inventions created from cross-disciplinary thinking driven by new opportunities. Scrubbers and scrubber adaptations for shipping exhaust appear to be inventions driven by changing policy creating necessity. For this first article, let’s dive into an exciting advancement seen in our marine seascape utilizing cross-disciplinary collaboration and new thinking to overcome an old problem.\\n“At Rafnar, our favorite season in Iceland is winter, as it provides the best opportunities to test our craft in the conditions they are ideally suited for. Yesterday was a good day at the office when the Rafnar team took a Leiftur 1100 out for sea trials in significant wave heights of 2.5 meters and 10-13m/s wind speeds. As winter has only just arrived, more fun days out at sea are certainly still to come in steadily “improving” conditions. –“ Photo Credit Instagram rafnar_shipyard November 15,2017.\\nCruising around and slamming against seas because of rough weather is not safe or enjoyable. Thankfully a solution is brought to life in the form of innovative boat hulls from an Icelandic company, Rafnar. Their disruptive technological breakthrough in boat hull design could change our entire seascape industry, with implications reaching from luxury boat markets to search and rescue vessels.\\nOne might not normally want to go sailing in rough seas, but a Rafnar Hull cleaves through the water even in the roughest conditions. The boat is always planed, as you increase speed you have an impression that the keel is being sucked into the water resulting in a feeling that is both controlled and nimbly gliding. Bear in mind, this is through huge swells that normally would slam you into the ceiling of your cabin.\\nRafnar’s groundbreaking technology Rafnar Hull was invented by a broad thinking individual who founded Rafnar, Össur Kristinsson.\\nÖssur Kristinsson was already renowned for his revolutionary developments in prosthetic technology. Kristinsson is both a prosthetist and a prosthetic user. His company named “Össur” became very successful and inspirational through innovations in silicone lining interface of prosthetic socket technology, which has improved millions of lives. As a serial inventor, Kristinsson brings the invention to a final mature stage, then hands the project over to his commercialization team in order for the invention to reach full market potential.\\nThough the Rafnar Hull is not his first groundbreaking invention, Kristinsson had always been interested in sailing and when he studied in Sweden he became particularly interested in Fredrik Ljungstorm’s circular hull. From the success of his prosthetic company, being now an affluent mariner, Kristinsson decided to buy himself a yacht that has a tender. It was then Kristinsson realized how much he hated being bounced around in a small boat and wondered why people just accepted being bounced around in small boats in rough weather?\\nOut of this necessity, for comfort and safety in all types of seas, Rafnar’s vision was born. In addition to the world needing a hull that mitigates wave slamming, Kristinsson also believed it was time a company was named after his wife. Her family name, Rafnar, was selected as the company’s name. With Iceland’s Viking naval history, the name also fit appropriately to the story of Raven-Flóki, the first Norseman to deliberately sail to Iceland, in 868 AD. He took with them three ravens to aid him in his search for the land up north, and the third raven guided him to Iceland. Rafnar resembles the Icelandic word for raven and the company’s logo is a silhouette of a raven gliding above the water, its body conveniently mirroring the unique curves of the Rafnar Hull.\\nKristinsson with his team of naval architects and engineers took 10 years of developing and improving prototypes through tank tests, field trials and computational fluid dynamics simulations to build the final product. During the last four years of development, from 2011 to 2015, the team collaborated with the Icelandic Coast Guard in order to improve and enhance the design with end-user feedback. Not only a local for Rafnar, but the Icelandic Coast Guard are arguably among the most demanding marine end users in the world due to the arctic sea states their boats need to navigate in around the coast of Iceland.\\nTo learn more about the stages of Rafnar’s revolution in hull design, and their plans for the future, I reached out to Kar Birgir Björnsson, Rafnar’s Director of Business Development. Karl officially joined the company in 2016, after having worked with them on their transition into commercialization.\\nKarl starts by explaining how Rafnar is entering its next stage of commercial development. The plan from the beginning was to conduct early stages of prototypes designs and initial commercial boat building in Iceland. Rafnar now works with commercial and build partners in key locations around the world in order to have Rafnar Hull boats available and produced locally.\\nWill the aluminum build be as robust as the fiberglass builds?\\nWithout sharing proprietary information, could you give me a synopsis of the stages of Rafnar Hull’s invention to the creation process? Were there many pitfalls, dead ends, or noteworthy breakthroughs?\\nWas there ever a time when there was serious doubt that this new design would actually work?\\nI have learned that Rafnar’s founder Össur Kristinsson was inspired by Fredrik Ljungstorm arc-of-circle radius, invented for its circular arc hull. Although I have heard that this design, referred to as a Ljungstorms Sailboat, was unstable for heavy weather as the circular arc hull similar to a shallow v hull, does not cleave the water well. Though your hull design cleaves the water exceptionally well. How does your innovation overcome the typical circular hull drawbacks?\\nAre emissions regulation and efficiency important to your team? Do you know any emission statistics for Rafnar Hull designs?\\nWhere can people try Rafnar’s revolutionary technology? Are you and the boat crew touring, if so where?\\n“There was a storm recently during Askur’s stay in Poole, England, and waves got up to some 5 or 6 meters (16 to 19.7 ft.). When all the other boats stayed in, we went out, as we did during Askur’s visit in Maine. Common sense would tell you not to go out in those conditions, and common sense would also tell you not to do a very sharp turn in huge weather. But this boat cuts through all that. Each time we go out it proves itself better and better. It is truly a product of the harshest conditions, and that’s where it performs best.\\nThis all is pretty amazing, and I am very thankful you were able to share some time to explain more about Rafnar’s vision. What ways could this article help achieve some of your goals?', 'timestamp': '2019-04-18 16:25:51', 'url': 'https://gcaptain.com/inventions-shaping-our-oceans-rafnar-hull/'}\n",
      "{'text': '\"It\\'s like hell on earth data-wise,\" says Michael Atkin, a renowned data professional and managing director of the Enterprise Data Management (EDM) Council trade body, in reference to the fragmented nature of over-the-counter (OTC) derivatives and other global capital markets.\\nThe rising demand for data is being driven by a whole raft of new post-crash regulations such as the US Dodd-Frank rules and European Market Infrastructure Regulation (EMIR). These mean that the sell and buy side must store, report, consolidate and use data - often on a real-time basis - as never before. Better data quality, standardised utility-like platforms, efficiency and control are all required in this new environment.\\nThe capital and collateral requirements coming in under Basel III are also driving a need for more intra-day information and the reformed markets require more linkages to custodians and central counterparty clearing houses (CCPs). Still other regulations wait on the horizon, such as the EU\\'S Markets in Financial Instruments Directive (MiFID) II and its Market Abuse Directive (MAD) II, which is aiming to stop further Libor, FX and other such mis-selling scandals or rogue trading behaviour.\\nCompliance, allied to monitoring for risk concentration and market abuse, are the key drivers for the data deluge.\\nBanks, asset managers, brokers, infrastructure providers and all other types of market participants - even national regulators themselves as the recipients of all this reporting data - are required to respond to the call for centralised reporting, clearing and enhanced transparency, emanating from the post-crash Pittsburgh G20 meeting back in 2009.\\nAccording to Michael Cooper, chief technology officer (CTO) at BT Radianz, there is almost exponential growth in data volumes, driven by regulators\\' concern to capture all data. \"Both structured and unstructured data, which requires interpretation and often relates to social media and so-called \\'big data\\' analytics, is being collected now for the prevention of market abuse and forensics investigations afterwards,\" he says. \"Market changes are also driving the data deluge (i.e. more margin calls, etc).\"\\nSteve Colwill, director of Velocimetrics, a data analysis and benchmarking firm that offers real-time performance monitoring, rightly warns data should be seen as a competitive advantage in this new marketplace, adding that: \"If data isn\\'t clean, then it is just \\'stuff\\'.\"\\nMoreover, it isn\\'t just transaction reporting duties under EMIR, Dodd Frank, or even the EU\\'s wholesale Regulation on Energy Market Integrity and Transparency (REMIT) rules that are driving the data deluge. The market abuse and conduct agenda, Know Your Customer (KYC), counterparty, tax beneficiary and other such storage requirements also matter, alongside centralised clearing and other transactional duties.\\nAs Robert Powell, global head of compliance at Etrali warns: \"EU rules, such as MAD II, cover all voice data and conversations, which need to be kept for surveillance purposes, regardless of where platform trades are executed or stored.\"\\nStephen McGoldrick, co-chair of the EMEA regulatory subcommittee at the FIX Trading Community standards body, and a director of market structure at Deutsche Bank, accepts there is a rising data demand. \"Yes, there will be a data deluge (in the wake of all these regulations),\" he says, \"but it\\'s something we\\'ll just have to cope with. I\\'m confident we can.\"\\nabout it and get the efficiency benefit of better data.\"\\nThe requirement to get a grip on data was illustrated recently when even the Bank of England (BoE) hired a chief data officer (CDO) Hany Choueiri, ex-of HSBC, at the turn of the year. There could be no more explicit demonstration of the UK central bank\\'s determination to be able to handle the vast amount of data flowing into it, and of the wider elevation of data as a crucial issue within the industry.\\n\"There is a data demand on us too as regulators,\" says Edwin Schooling Latter, head of Markets Infrastructure and Policy at the UK Financial Conduct Authority, on secondment from the BoE. \"The FCA is investing more in technology because of it.\"\\nAt the 2015 FIX EMEA Trading Conference, Schooling Latter told Automated Trader his organisation \"certainly plans to\" handle all the huge volumes of data flowing into it. He is confident the time and money invested in people, process and technology at the FCA will see a smooth transition to the new transactional data reporting, surveillance and other post-crash obligations.\\nWhether the same preparedness can be attributed to other, smaller national regulators is up for debate. Germany, France, the US and the UK will likely manage. \"But there are 31 countries in the European Economic Area (EEA) and the likes of Iceland, Malta and Cyprus won\\'t be able to invest in data handling capabilities,\" says Chris Pickles, of the Bloomberg Open Symbology Team. This may not matter if neighbours help out, and because their volumes are low, but it is a concern.\\nAccording to Tom Riesack, managing principal at the Capco consultancy: \"The first thing a major regulator needs to do is build up an analytical capacity to handle the data flows coming into it. This enables the regulator to make data-driven conclusions.\"\\nNotably, the same logic applies to large banks.\\n\"Don\\'t forget the consolidation challenge either,\" cautions Riesack, again focusing on regulators\\' data handling capabilities, though the point is equally valid for banks. \"For instance, each EMIR derivative trade repository (TR) collects data in a different manner since the regime\\'s inception in February 2014. Data is not yet being reconciled between TRs.\"\\nThere were bound to be teething problems as regulations such as EMIR came into being, but Schooling Latter is clear about what the UK regulator wants data for. \"Our objective is transparency and monitoring market abuse. Those are the key FCA objectives,\" says Schooling Latter.\\nOne of the immediate causes of the data deluge was the start of TRs under EMIR in Europe in February 2014, covering derivatives, and before that Swap Data Repositories (SDRs), part of Dodd Frank Title VII in the US. (Swap Execution Facilities SEFs separately provide pre-trade bid/offer information on execution platforms).\\nUS players had to register as a swap dealer (SD) or major swap participant (MSP). The US Commodity Futures Trading Commission (CFTC) has led the way compliance-wise - too much so for some tastes - with rising complaints about a lack of regulatory coherence. They\\'ve been front-running the Securities and Exchange Commission\\'s (SEC) own wider efforts, so perhaps the legal action from the International Swaps and Derivatives Association (ISDA) and other trade bodies specifically targeting its cross-border guidance in December 2013 was inevitable.\\nIn Europe, a handful of new TRs have been launched. Last year\\'s initial wave of six approved by the European Securities and Markets Authority (ESMA) comprised: the UK-based ICE Trade Vault Europe Ltd (ICE TVEL); CME TR; the Regis-TR Iberclear/Clearstream joint venture; London Stock Exchange (LSE) UnaVista platform; Poland\\'s KDPW; and the Depository Trust and Clearing Company (DTCC) repository.\\nIn the US many of the same repositories are present, having started out there. The leading US players, with more joining all the time, include: Intercontinental Exchange (ICE) Trade Vault US; the DTCC Data Repository; and CME SDR.\\nAway from transactional obligations, data monitoring for intra-day purposes, plus data mining and tracking for market abuse, or post-event forensics, are all crucial elements in the rising data mix. The data demand will only grow as MiFID II, MAD II and other such regulations come into full force in 2017, impacting other non-derivative segments of the capital markets.All of the above repositories store OTC derivative trades in the hope that if the worst happens and there is another Lehman-style collapse unwinding the positions wouldn\\'t be so nightmarish in the future. The repositories mean that a wave of data has been unleashed, with firms having to collate and store it. This data is passed on to the regulators as and when required. It remains stored for later investigation.\\n\"Meeting trade reporting requirements has been a big enough expense for many market participants,\" says Cian Ó Braonáin, global lead of Sapient Global Markets\\' regulatory reporting practice. \"Despite sizable investments in internal systems, many banks are still grappling with data management challenges and inefficient trade reporting processes and governance.\\n\"Buy side firms, leaning on their executing broker or clearing member to handle reporting on their behalf, must also now demonstrate to regulators that they\\'re validating the delegated reporting against their own records.\"\\nThe data burden is borne out by Tim Thornton, chief data officer, at Mitsubishi UFJ Fund Services. Commenting on the anniversary of EMIR TRs in February this year, he said: \"Errors and mistakes during the reporting process are still common. Regulators have indicated they intend to clamp down on firms submitting inaccurate data, but fund managers have onerous reporting obligations, which mean processing significant quantities of data.\"\\nThe requirement under EMIR that financial institutions, including asset managers, clear their OTC derivative transactions through CCPs is likely to come into force in August 2015, he adds.\\n\"EMIR also imposes stringent risk mitigation procedures on firms\\' un-cleared OTC transactions including timely confirmation, dispute resolution, portfolio compression, daily valuation and recordkeeping. These rules are extra-territorial so firms must check to see if they\\'re ensnared. The (new) deadline is fast approaching and fund managers must ensure they are well prepared to deal with these rules, or risk facing regulatory sanctions,\" said Thornton.\\nCollaborative initiatives designed to deal with the data deluge hitting capital markets firms are proliferating. Financial utilities; vendor-sourced shared services in the cloud (if they\\'re secure against hack attacks); and new data services are coming to market all the time.\\nData consolidation and much needed standardisation initiatives, are also on the rise. For example, in 2014, the old Bloomberg Global Identifier (BBGID) was rebranded as an open standard Financial Instrument Global Identifier (FIGI) and endorsed by the Object Management Group (OMG), a non-profit standards consortium. Bloomberg wants FIGI to become the definitive global non-proprietary system for identifying securities\\' instruments and firms. (See FIGIs at bottom).\\nDTCC is another major player in this space. They are launching the Clarient Entity Hub centralised reference data and document utility, for instance, and separately, the DTCC-Euroclear Global Collateral joint venture to prepare for the coming market liquidity and collateral changes.\\nAdditionally, the DTCC Deriv/SERV subsidiary is still relevant because it targets post-trade processing of derivatives through the firm\\'s Trade Information Warehouse (TIW); via its Global Trade Repository (GTR), which admittedly faces the hurdle of regional regulatory differences; and the Equity Cashflow Matching (ECM) engine. Harmonising domestic and international differences is a stated aim for the firm.\\nAccording to DTCC Clarient\\'s CEO, Matt Stauffer, the Hub is designed to address global financial market participants\\' increasing need for greater control and transparency in the entity data management process. \"It was developed in response to evolving risk management and regulatory requirements, many of which require a greater level of rigour in the collection and oversight of this data than in the past,\" he says.\\nThese regulations include, but are not limited to, more robust global KYC processes, the Foreign Account Tax Compliance Act (FATCA), EMIR, Dodd-Frank, and other such rules, he adds.\\n\"There is a landscape of partnerships emerging as participants realise they can no longer serve all clients everywhere,\" says Sapient\\'s Ó Braonáin. \"Partnerships, whether defined on a one-to-one basis, as a \\'utility\\', or a shared service, are helping to address weaknesses and gaps in business models, data, functional capability or geographic reach.\"\\nExamples he points to include: BNY providing services to CME for Central Securities Depository (CSD); BNY with SIX for custodial services; Nasdaq NLX with LCH for cross margining; BNY with State Street and Eurex for listed/OTC clearing; etc.\"\\nCollaborative undertakings such as these require shared data, standards and processing, plus mutual trust in each other\\'s data quality, handing capabilities, security infrastructure and so on. A number of specifically data-focused initiatives that are more compliance driven, and not on a one-to-one basis, are also underway. Meanwhile, vendors are looking to serve the needs of smaller firms in the cloud. Larger players typically look to non-vendor aligned utilities or indeed each other for help.\\nDepending upon what part of the data spectrum a capital market firm wants to address - compliance, risk concentration or market abuse - and upon the size of the firm, various solutions are on offer. Accenture, for instance, has launched a transaction processing aggregator platform which is aimed at FIs wanting to pool their back office processing to cut IT and compliance costs.\\nAccenture Post-Trade Processing received approval from the FCA in April. The post-trade utility has been set up in collaboration with Broadridge to support settlement, books and records, asset servicing, operational management and control, real-time data access and administrative accounting.\\nIn the equities exchange arena for instance, Euronext outsourced its real-time monitoring and pricing of derivatives instruments to Horizon Software in April, abandoning its expensive old proprietary system. Horizon will henceforth carry out this activity and calculate and disseminate settlement prices on an intra-day basis.There is, of course, no shortage of solutions.\\nSimilarly, more than 40 clients are now using Trayport\\'s online prototype REMIT reporting tool. Ancoa is also providing real-time market surveillance for the LedgerX exchange Bitcoin options trading platform, enabling them to detect and deal with potentially manipulative trading behaviours.\\nLarger capital market firms, with bigger IT and human resources, are not so dependent on vendors to help them meet their data demands, and typically look to themselves or shared utilities organised by bodies such as FIX or SWIFT, in which they have a stake. They\\'re not keen on vendor-based cloud solutions. Bigger FIs particularly prize trade body utilities when they operate in non-competitive areas such as tax or financial crime compliance reporting duties.\\nJP Morgan has even launched its own algorithm to track any signs of market abuse among its own staff to identify rogue employees before they go astray, according to a Bloomberg report. Dozens of inputs, including whether workers skip compliance classes, violate personal trading rules or breach market-risk limits, will be fed into the algo pattern-spotting behavioural software. It is presently being tested in the trading business and will spread throughout the global investment-banking and asset-management divisions by 2016, a spokesman confirmed.\\nIt won\\'t be easy to reform the capital markets, on both the sell and buy side, via utilities, vendors or in-house solutions, but the effort has begun. Surveillance, regulation and changed market circumstances are the key drivers and cause of the data deluge.\\nThe Bloomberg Open Symbology (BSYM) project is an attempt to introduce better instrument and corporate identification tags in a multi-asset trading and investment environment. The Object Management Group (OMG) non-profit standards consortium adopted the 12-character BSYM identifier as the basis for its Financial Instrument Global Identifier (FIGI) specification in September 2014. This is intended to encourage global adoption and make it easier to identify securities such as equities, fixed income, indices, derivatives, currency and structured instruments across various venues. \"The EDM Council is also supporting it as an open standard,\" says Chris Pickles of the Bloomberg Open Symbology team. Other standards are of course available too. OMG hope its FIGI, which is essentially a rebranding of the old Bloomberg Global Identifier (BBGID), which the firm stopped charging for in 2009, will help introduce a standardised system for naming financial securities that is non-proprietary, offers broad coverage, and is free and universally available around the world without restrictive license terms and fees. As Pickles of the BSYM team tells it, International Securities Identification Numbers (ISINs), widely encouraged by the Association of National Numbering Agencies (ANNA) and used in the equity and bond markets, \"haven\\'t proved to be the common identifier standard that everyone hoped for\". There are also so many other segmented identifiers out there - from differing Market Identifier Codes (MICs) for exchanges to Alternative Instrument Identifiers (Aii) for derivatives - that some standardisation is required, particularly with the BCBS 239 risk data aggregation and validity requirements in mind. \"The FIGI could help to encourage the necessary linkages,\" says Pickles, who adds there are 225 million financial instruments across all asset classes - from loans, to swaps and so forth - at the moment. This is growing fast by five million a month, adding to the pressure to bring order to the system.', 'timestamp': '2019-04-25 08:49:11', 'url': 'http://static.automatedtrader.net/articles/feature/153959/the-data-deluge'}\n",
      "{'text': \"With the visit of Secretary of State George Shultz three days away, the United States Marine scandal appears to have been transformed from an intelligence triumph into a political irritation for Moscow. Soviet officials are expressing the concern that the affair may be used by the US to back away from an agreement on medium-range nuclear missiles.\\nMoscow seems to be planning a two-track response: a tough line on espionage coupled with a softer line on missiles. The Soviet Foreign Ministry yesterday held an exhibit of bugs allegedly found in Soviet diplomatic installations in the US; and Soviet officials hint that Mikhail Gorbachev will make new arms control proposals today during a major policy speech in Prague, where he is now visiting.\\nThe Soviet Union is eager to obtain at least one substantial arms control agreement before Ronald Reagan leaves office. After Mr. Gorbachev announced on Feb. 28 that the USSR was removing the medium-range missiles (by Soviet definition, those with a range of 1,000 to 5,000 kilometers, or up to 3,100 miles) from the package of disarmament measures proposed last October at the Iceland summit, Soviet officials predicted an agreement could be reached in a few months.\\nThey are now expressing doubt that either the US or NATO is really interested in an agreement. One Soviet military analyst said yesterday that Western Europe was ``zigzagging'' over medium-range missiles. A commentary in the Communist Party newspaper Pravda yesterday equated the uproar in the US over the Marine case - in which three marines have been charged with spying, two of them after allegedly being seduced by Soviet women - to other incidents during recent years that had allegedly been blown out of proportion by Reagan administration hard-liners to forestall movement toward arms control. Once again, the commentary stopped short of identifying President Reagan himself as a hard-liner.\\nYesterday's display of alleged US eavesdropping devices was another example of the present leadership's combative approach to propaganda: If attacked, it tends to respond in kind.\\nBoris Pyadishev, a Foreign Ministry deputy spokesman, stressed that Moscow was presenting solid evidence of US eavesdropping in the Soviets' US missions. The US so far had made only allegations, he said.\\nThe Soviet display included photographs and actual examples of bugs allegedly found in the new Soviet Embassy complex in Washington, the embassy's country residence, its consulate general in San Francisco, and living accommodations in the UN mission in New York. Some of the devices removed from the new Soviet Embassy building in Washington had been found ``literally in the last few days,'' Mr. Miroshkin said.\\nThe bugs had been planted behind wood and concrete walls and in insulation around windows, the Soviets said; the main television antenna of one apartment block had allegedly been turned into a transmitting device for eavesdropping. The equipment used the most advanced technology, Miroshkin said, and was designed to function for years.\", 'timestamp': '2019-04-24 07:52:56', 'url': 'https://www.csmonitor.com/1987/0410/oshul.html'}\n",
      "{'text': 'The Met Office has shown it can predict the weather one year in advance with its new £97 million supercomputer.\\nScientists believe they can now forecast with some accuracy the North Atlantic Oscillation (NAO) weather phenomenon in the Atlantic Ocean which largely governs the British winter.\\nThe phenomenon forms because of low-pressure over Iceland and high pressure over the Azores in the Atlantic.\\nA large pressure difference brings increased westerly winds, cool summers and mild, rainy winters. In contrast when the difference is small there are fewer winds and Britain shivers in a big freeze during the winter months.\\nIt was previously thought that the NAO was a chaotic system which could not be predicted but the Met Office has used a technique called ‘hindcasting’ to check whether their new supercomputer could have predicted past winters.\\nAfter looking back at weather data going back to 1981, they discovered that they could largely predict what the winter weather would have done for the past 35 years, a year in advance, with 42 per cent accuracy.\\nThe scientists say it could allow governments, healthcare services and the energy and transport sectors to plan for future needs and ‘weights the dice’ in favour of making more accurate long term predictions.\\nDr Nick Dunstone, the Met Office’s lead author, said: “Understanding and predicting the changes in the North Atlantic Oscillation could have significant economic benefits including potential boosts in climate services for a range of sectors including transport, energy, water management and the insurance industry.\\n“Two years ago we showed we could predict the winter NAO up to one month ahead and that has helped predict river floods, delays at Heathrow, and problems in transport networks.\\n“We’re hopeful that we can use these one year ahead predictions to also inform planning. They are not going to be as accurate as the monthly forecasts but we have shown that they can spot what the North Atlantic Oscillation is doing.\\nThe Met Office currently only gives outlooks a month ahead of winter, and was able to predict last year’s winter flooding. But the new technique could help forecasters make even better predictions.\\nForecasters say this winter is likely to be colder and drier than last year, which will bring relief to families who were flooded out of their homes over Christmas.\\nProf Adam Scaife, head of Met Office Monthly to Decadal Prediction group, said: “From as early as last October and November, our seasonal forecast system showed an enhanced risk of storms and very wet conditions for the early part of winter 2015/16 and then a transition to colder, drier conditions during late winter.\\nThe Met Office has faced criticism in the past for its inaccurate forecasts, such as when Michael Fish wrongly dismissed the 1987 hurricane that killed 19 people.\\nAfter the 2007 prediction of a “barbecue summer” ended in a soggy washout, the Met Office pointed out that its seasonal forecast offered only a 65 per cent chance of being right.\\nThe new system is unlikely to predict summer weather a year in advance as there are many more weather systems at play in the summer months.\\nThe Met Office currently takes in 106 million observations a day from around the world using sources such as weather balloons, satellites and hundreds of commercial aeroplanes which send back data as they fly between destinations.\\nThe new computer can perform more than 16,000 trillion calculations per second proving more accurate predictions than ever before.\\nThe new research was published in the journal Nature Geoscience.', 'timestamp': '2019-04-22 21:03:27', 'url': 'https://www.telegraph.co.uk/science/2016/10/17/met-office-can-now-predict-winter-weather-one-year-in-advance/'}\n",
      "{'text': 'Companies like Google, Apple, and Facebook don\\'t just innovate with products: Just look at their datacenters. The designs and operations playbooks of these new centers aim to lower costs, increase reliability and maintainability, and improve agility, while reducing energy use and carbon footprint.\\nAs big data and cloud computing push the limits of traditional datacenters, new trends in datacenter innovation have followed. Google started the ball rolling when it scaled up its search operations starting in the late 1990s. By 2001, Google, still three years away from its IPO, was building its own servers from piece-parts, seeking not only economy but also reliability and ease of maintenance. Prior to 2003, Google was investigating putting large numbers of servers in a shipping container. That year it applied for a patent on the idea of the modular, drop-in-place datacenter.\\nBack then, Google was saying very little about its datacenter operations. A favorite Silicon Valley guessing game was to speculate on how many servers the company ran. The search giant was gradually forced into more transparency by the rapid rise of Facebook, which discussed its operations in detail.\\nGoogle\\'s containerization patent was issued in 2007; it wasn\\'t until 2009 that the company confirmed that it had been installing modular, containerized server farms since 2005. Google is now quite chatty about its datacenters.\\nFacebook built its first from-scratch datacenter in Prineville, Ore., open-sourcing the designs of everything it used -- from servers and storage to networking and even the specifications for datacenters themselves. In April 2011 Facebook announced the Open Compute Project, a non-profit charged with the stewardship of these hardware blueprints.\\nAs Microsoft, Apple, and eBay began building large scale, cloud datacenters during the last half decade, they joined the pioneers in looking for ways to reduce energy consumption in their datacenters. Innovative power and cooling schemes multiplied. Soon the competition shifted to green energy: How much of a datacenter\\'s power could be supplied from renewable sources?\\nEach of the following cloud-scale datacenters breaks new ground in some dimension of its design or operation -- from modularity and efficiency to scalability and green energy -- and each has something to teach us about how datacenter design is evolving. Take a closer look.\\nI think the \"Bliss\" fuel cells should say \"Bloom\". They are made by Bloom Energy. Maybe Bliss is a brand of Bloom Energy but I couldn\\'t find a reference to it.\\nGreenland belongs to the Kingdom of Denmark, but it\\'s autonomous. It\\'s not considered neither Scandinavian nor Nordic even though it has a strong cultural connection with them.\\nGeographically speaking, the Scandinavian peninsula is made up by Norway, Sweden, and part of the north of Finland. Linguistically, Swedish, Norwegian, and Danish share the word \"Skandinavien\", which refers to the ancient territories of the Norsemen: i.e. Norway, Sweden, and Denmark. Iceland was also one of the Norsemen\\'s regions and Icelandic belongs to the same linguistic family as Swedish, Norwegian, and Danish. Finnish doesn\\'t belong to this linguistic family.\\nLive and learn! Did not know that. Greenland too?\\nI was remembering that there was a great video about Iceland on Internet Evolution by Steve Saunders. I had the intention of saving it before IE disappeared, but then at the last minute I forgot as I was quickly saving my own stuff. :( It would have been nice to have it here as illustration for this discussion.\\nThere is at least one project to build out a data center park in Iceland. It was announced 5 years back, if I recall correctly, and has several tenants at this time. As Stratustician noted, Iceland\\'s limitation is its fiber density. The Scandanavian countries are all better situated from that point of view.\\nHe adds, \"Yes, I\\'ve been in the data center that is shown.\"\\nIceland is a smart choice for datacenters that don\\'t pollute at all. In fact, all cold-climate countries are ideal for datacenters.The Nordic and Scandinavian countries have also the advantage of using renewable energy.\\nAnd and we see, more and more datacenters are populating this part of the world.\\nI\\'d all be for some data centers in Iceland since they have the nice benefit of really cheap electricity and a climate built to cool those server racks. Too bad the pipes to extend it out would cost quite the fortune.\\nMost likely you won\\'t see any. :) Do you want to hear more? Every year in November there is the three-day Slush conference in Helsinki for European startups and VCs.', 'timestamp': '2019-04-25 10:43:38', 'url': 'https://www.informationweek.com/cloud/platform-as-a-service/8-datacenters-for-clouds-toughest-jobs/d/d-id/1114199'}\n",
      "{'text': 'ROME, May 15 (Reuters) - Italy’s ENAC civil aviation authority fined Irish carrier Ryanair (RYA.I) 3 million euros ($3.81 million) for failing to help passengers stranded by Icelandic ash, and Britain and Ireland braced for more potential flight disruption.\\nIn a statement on Saturday, ENAC cited 178 cases in which Ryanair failed to meet its obligation to assist passengers between April 17 and 22, when airlines cancelled hundreds of flights across Europe as the volcanic ash cloud shut airspace.\\nENAC said Ryanair passengers stuck in Rome had to be helped by its own staff, members of Italy’s Civil Protection agency and employees of the Rome airports operator.\\nIn contrast, almost all the other airlines provided adequate assistance to stranded ticket-holders, ENAC said.\\nNo one was immediately available for comment at Ryanair.\\nIn London, the government said parts of British airpsace might have to close from Sunday until Tuesday because of a fresh cloud of ash from the Icelandic volcano.\\nDifferent parts of the airspace including the southeast, where Europe’s busiest airport Heathrow is located, are likely to be closed at different times, the Transport Department said.\\n“Due to continuing volcanic activity in Iceland and prevailing weather conditions, there is — if the volcano continues to erupt at current levels — a risk of UK airspace closures,” it said in a statement.\\nIf restrictions become necessary, an announcement will be made by the National Air Traffic Service, it added.\\nThe ash cloud is also drifting towards Ireland from the North Atlantic and is likely to be over the west coast of the country early on Sunday morning, the Irish Aviation Authority (IAA) said in a statement. It will cover the rest of the country later in the day.\\nThe IAA said Sligo, Donegal, and Ireland West (Knock) airports would be open until 0600 GMT while other Irish airports would be open until at least 1200 GMT.\\n“The IAA is organising observation flights for tomorrow to check on the level of ash concentrate,” it said, adding it would provide another update on Sunday morning.\\nThe spread of ash from an erupting volcano under the Eyjafjallajokull glacier in Iceland grounded much of European air traffic for nearly a week in mid-April. Airlines had to cancel around 100,000 flights, stranding millions of passengers.\\nSince then the ash has periodically forced the short-term closure of parts of airspace in countries across Europe.', 'timestamp': '2019-04-25 11:12:48', 'url': 'https://www.reuters.com/article/europe-air-britain-ryanair/update-3-italy-fines-ryanair-ash-cloud-threatens-uk-ireland-idUSLDE64E05Y20100515?type=marketsNews'}\n",
      "{'text': 'Nearly a fifth of countries in which the Panama Papers investigation was reported saw at least one instance of concrete reform, researchers from the University of Oxford found.\\nThe reform included a new law or policy designed to address problems exposed in the reporting which grew out of a trove of files leaked from Panamanian law firm Mossack Fonseca, at the time one of the world’s largest providers of offshore services.\\n“This is a higher rate than has been found in comparable analyses, due in part to the global scope of the Panama Papers and the nature of the institutions implicated,” Lucas Graves and Nabeelah Shabbir wrote in their research paper published by the Reuters Institute for the study of journalism, based at the University of Oxford.\\nThe Irish Times, in conjunction with the International Consortium of Investigative Journalists, revealed how offshore companies are used to conceal the ownership and control of assets and property worth billions.\\nThe research paper – “Gauging the global impacts of the ‘Panama Papers’ three years later” – found that 147 distinct outcomes arose from the investigation.\\nFor example, Iceland’s prime minister stood down two days after the stories broke in 2016, after his family’s interest in an offshore company that stood to gain from the bailout of failed Icelandic banks was revealed. In Pakistan, prime minister Nawaz Sharif was also forced to resign.\\nSome 16 countries or international bodies achieved at least one substantive reform related to the Panama Papers by March 2019, “an impressive result”, the authors wrote.\\nIn the United States, the Obama administration moved to finalise banking rules cracking down on anonymous shell companies, while European governments are in the process of creating registries of companies’ true owners.\\n“Substantial reforms have been visible in a range of countries,” the authors said, noting the Lebanese vote to lift banks’ secret protections, as well as Mongolia’s legislation banning public officials and their family members from owning offshore companies.\\nThis year alone there has been an impact, with Armenia reopening a corruption inquiry into a former law-enforcement official and US officials making the first arrest of an American implicated in the scandal.\\n“Various tax-enforcement measures have been a regular outcome of the reporting, and numerous companies and individuals have been penalised or prosecuted as a result,” Mr Graves and Ms Shabbir wrote.\\nIn some countries, however, reporters have come under threat. The most severe example was the murder of Daphne Caruana Galizia in Malta.\\nIn another case, in China, a high-profile editor of Hong Kong Daily, Ming Pao, was unexpectedly fired on the same day the paper carried front-page reports on prominent political and business figures who appeared in the Panama Papers documents.', 'timestamp': '2019-04-25 00:08:37', 'url': 'https://www.irishtimes.com/business/economy/panama-papers-leak-led-to-reform-in-one-out-of-five-countries-1.3830625'}\n",
      "{'text': 'Ashish Ghadiali is a film director, screenwriter and co-editor of Red Pepper magazine.\\nA conversation with Ashish Ghadiali, film-maker, party activist, autonomous individual, about reinventing politics through culture and democracy.\\nRed Pepper, Lacuna, openDemocracy, battling under-representation/ mis-representation of people of colour in the UK media. All people of colour welcome at Brighton meeting, 23/9/17 - 3pm ( during Labour Party conference).\\n“It\\'s not only about us versus the system. The system is really us.” As Iceland’s radical Pirate party approaches the gates of power, we speak to its figurehead Birgitta Jónsdóttir.\\nMoazzam Begg and The Confession, Part Two.\\n\"Whatever you want to think about Moazzam Begg... the film demands that you recognize that the rule of law, that quintessential British value, has not been exercised in our time.\"', 'timestamp': '2019-04-18 18:25:52', 'url': 'https://www.opendemocracy.net/en/author/ashish-ghadiali/'}\n"
     ]
    }
   ],
   "source": [
    "from datasets import load_dataset\n",
    "\n",
    "# Load the dataset\n",
    "realnewslike = load_dataset(\"allenai/c4\", \"realnewslike\", streaming=True, split=\"train\")\n",
    "\n",
    "# Iterate over the dataset\n",
    "for i, example in enumerate(realnewslike):\n",
    "    if \"Iceland\" in example[\"text\"]:\n",
    "        print(example)\n",
    "    if i == 10000:  # Limit to 10,000 iterations for demonstration\n",
    "        break"
   ]
  },
  {
   "cell_type": "code",
   "execution_count": 9,
   "metadata": {},
   "outputs": [
    {
     "name": "stderr",
     "output_type": "stream",
     "text": [
      "[nltk_data] Downloading package stopwords to\n",
      "[nltk_data]     /Users/jamespotter/nltk_data...\n",
      "[nltk_data]   Unzipping corpora/stopwords.zip.\n"
     ]
    },
    {
     "data": {
      "text/plain": [
       "True"
      ]
     },
     "execution_count": 9,
     "metadata": {},
     "output_type": "execute_result"
    }
   ],
   "source": [
    "import ssl\n",
    "\n",
    "try:\n",
    "    _create_unverified_https_context = ssl._create_unverified_context\n",
    "except AttributeError:\n",
    "    pass\n",
    "else:\n",
    "    ssl._create_default_https_context = _create_unverified_https_context\n",
    "\n",
    "nltk.download('stopwords')"
   ]
  },
  {
   "cell_type": "code",
   "execution_count": 13,
   "metadata": {},
   "outputs": [
    {
     "name": "stdout",
     "output_type": "stream",
     "text": [
      "20 most common words:\n",
      "said: 10766\n",
      "one: 9141\n",
      "new: 9111\n",
      "also: 8372\n",
      "would: 7899\n",
      "two: 5796\n",
      "first: 5732\n",
      "people: 5603\n",
      "said.: 5512\n",
      "like: 5465\n",
      "last: 5250\n",
      "could: 4663\n",
      "time: 4502\n",
      "—: 4475\n",
      "get: 4277\n",
      "many: 3951\n",
      "even: 3881\n",
      "make: 3776\n",
      "–: 3696\n",
      "may: 3689\n"
     ]
    }
   ],
   "source": [
    "from collections import Counter\n",
    "import re\n",
    "from nltk.corpus import stopwords\n",
    "import nltk\n",
    "\n",
    "\n",
    "# Download stopwords if not already downloaded\n",
    "try:\n",
    "    stop_words = set(stopwords.words('english'))\n",
    "except LookupError:\n",
    "    nltk.download('stopwords')\n",
    "    stop_words = set(stopwords.words('english'))\n",
    "\n",
    "# Initialize counter\n",
    "word_freq = Counter()\n",
    "\n",
    "# Process first 10000 documents\n",
    "for i, example in enumerate(realnewslike):\n",
    "    # Convert to lowercase and split into words\n",
    "    words = example[\"text\"].lower().split()\n",
    "    \n",
    "    # Remove stopwords and count remaining words\n",
    "    content_words = [word for word in words if word not in stop_words]\n",
    "    word_freq.update(content_words)\n",
    "    \n",
    "    if i == 10000:  # Limit to 10,000 documents for demonstration\n",
    "        break\n",
    "\n",
    "# Print the 20 most common words\n",
    "most_common_first_pass = []\n",
    "print(\"20 most common words:\")\n",
    "for word, count in word_freq.most_common(20):\n",
    "    print(f\"{word}: {count}\")\n",
    "    most_common_first_pass.append(word)\n",
    "    \n",
    "\n"
   ]
  },
  {
   "cell_type": "code",
   "execution_count": 14,
   "metadata": {},
   "outputs": [
    {
     "name": "stdout",
     "output_type": "stream",
     "text": [
      "\n",
      "20 most common topics:\n",
      "year: 8716\n",
      "years: 5273\n",
      "state: 4518\n",
      "well: 3862\n",
      "three: 3841\n",
      "back: 3661\n",
      "world: 3616\n",
      "company: 3581\n",
      "work: 3467\n",
      "city: 3459\n",
      "much: 3245\n",
      "million: 3212\n",
      "government: 3175\n",
      "high: 3164\n",
      "take: 3131\n",
      "president: 3128\n",
      "home: 3125\n",
      "made: 3093\n",
      "school: 3058\n",
      "since: 3007\n"
     ]
    }
   ],
   "source": [
    "# The most common stop words aren't representative of the topics in the data - so we will omit them and check for actual topics that occur. \n",
    "# Initialize counter for topic analysis\n",
    "topic_freq = Counter()\n",
    "\n",
    "# Process first 10000 documents, looking for meaningful topics\n",
    "for i, example in enumerate(realnewslike):\n",
    "    # Convert to lowercase and tokenize\n",
    "    text = example[\"text\"].lower()\n",
    "    \n",
    "    # Remove special characters and extra whitespace\n",
    "    text = re.sub(r'[^\\w\\s]', ' ', text)\n",
    "    text = ' '.join(text.split())\n",
    "    \n",
    "    # Split into words and remove stopwords\n",
    "    words = text.split()\n",
    "    content_words = [word for word in words \n",
    "                    if word not in stop_words \n",
    "                    and len(word) > 3 \n",
    "                    and not word.isdigit() \n",
    "                    and word not in most_common_first_pass\n",
    "                    and not any(c in word for c in ['—', '–'])] \n",
    "    \n",
    "    # Count meaningful words that could represent topics\n",
    "    topic_freq.update(content_words)\n",
    "    \n",
    "    if i == 10000:\n",
    "        break\n",
    "\n",
    "# Print the 20 most common meaningful topics\n",
    "print(\"\\n20 most common topics:\")\n",
    "for word, count in topic_freq.most_common(20):\n",
    "    print(f\"{word}: {count}\")\n"
   ]
  },
  {
   "cell_type": "code",
   "execution_count": 15,
   "metadata": {},
   "outputs": [
    {
     "name": "stdout",
     "output_type": "stream",
     "text": [
      "\n",
      "20 most common noun topics:\n",
      "year: 8716\n",
      "years: 5273\n",
      "state: 4518\n",
      "world: 3616\n",
      "company: 3581\n",
      "city: 3459\n",
      "government: 3175\n",
      "president: 3128\n",
      "school: 3058\n",
      "home: 2975\n",
      "team: 2923\n",
      "game: 2895\n",
      "percent: 2855\n",
      "week: 2737\n",
      "part: 2727\n",
      "business: 2697\n",
      "season: 2679\n",
      "country: 2358\n",
      "life: 2352\n",
      "group: 2255\n"
     ]
    }
   ],
   "source": [
    "# again, this is getting better but we can do better. We will only choose nouns.\n",
    "# Initialize counter for topic analysis with only nouns\n",
    "topic_freq = Counter()\n",
    "\n",
    "# Process first 10000 documents, looking for meaningful topics\n",
    "for i, example in enumerate(realnewslike):\n",
    "    # Convert to lowercase and tokenize\n",
    "    text = example[\"text\"].lower()\n",
    "    \n",
    "    # Remove special characters and extra whitespace \n",
    "    text = re.sub(r'[^\\w\\s]', ' ', text)\n",
    "    text = ' '.join(text.split())\n",
    "    \n",
    "    # Split into words and remove stopwords\n",
    "    words = text.split()\n",
    "    \n",
    "    # Tag parts of speech\n",
    "    pos_tags = nltk.pos_tag(words)\n",
    "    \n",
    "    # Only keep nouns (NN = noun singular, NNS = noun plural, NNP = proper noun singular, NNPS = proper noun plural)\n",
    "    content_words = [word for word, pos in pos_tags \n",
    "                    if pos.startswith('NN')\n",
    "                    and word not in stop_words\n",
    "                    and len(word) > 3\n",
    "                    and not word.isdigit()\n",
    "                    and word not in most_common_first_pass\n",
    "                    and not any(c in word for c in ['—', '–'])]\n",
    "    \n",
    "    # Count meaningful nouns that could represent topics\n",
    "    topic_freq.update(content_words)\n",
    "    \n",
    "    if i == 10000:\n",
    "        break\n",
    "\n",
    "# Print the 20 most common meaningful noun topics\n",
    "print(\"\\n20 most common noun topics:\")\n",
    "for word, count in topic_freq.most_common(20):\n",
    "    print(f\"{word}: {count}\")\n",
    "\n",
    "\n"
   ]
  },
  {
   "cell_type": "code",
   "execution_count": 16,
   "metadata": {},
   "outputs": [
    {
     "name": "stdout",
     "output_type": "stream",
     "text": [
      "\n",
      "20 least common noun topics:\n",
      "husak: 1\n",
      "montgomerie: 1\n",
      "banqueting: 1\n",
      "mallaghan: 1\n",
      "traum: 1\n",
      "giesler: 1\n",
      "wherley: 1\n",
      "bock: 1\n",
      "votech: 1\n",
      "purvis: 1\n",
      "lavash: 1\n",
      "djan: 1\n",
      "noshe: 1\n",
      "logbooks: 1\n",
      "partnerwere: 1\n",
      "esquino: 1\n",
      "learjet: 1\n",
      "domene: 1\n",
      "ávila: 1\n",
      "yihai: 1\n"
     ]
    }
   ],
   "source": [
    "# Print the 20 least common meaningful noun topics\n",
    "print(\"\\n20 least common noun topics:\")\n",
    "for word, count in topic_freq.most_common()[:-21:-1]:\n",
    "    print(f\"{word}: {count}\")"
   ]
  },
  {
   "cell_type": "markdown",
   "metadata": {},
   "source": [
    "### Synthetic Data \n",
    "Cosmopedia is a synthetic dataset located in Huggingface."
   ]
  },
  {
   "cell_type": "code",
   "execution_count": 20,
   "metadata": {},
   "outputs": [
    {
     "name": "stderr",
     "output_type": "stream",
     "text": [
      "Generating train split: 100%|██████████| 100000/100000 [00:00<00:00, 170309.29 examples/s]"
     ]
    },
    {
     "name": "stdout",
     "output_type": "stream",
     "text": [
      "\n",
      "Examining Cosmopedia synthetic data samples:\n",
      "\n",
      "\n",
      "Example 1:\n",
      "Prompt: Here is an extract from a webpage: \"What can cause my settlement offer to be delayed?\n",
      "When you’ve been injured in an Austin truck accident, one of the most common questions is how long it will take for the insurance company to make an offer to settle your case. The answer depends on a variety of factors.\n",
      "The process starts with filing an insurance claim and providing evidence that shows exactly what happened during the accident and who was at fault. This can involve gathering key Austin truck accident evidence such as:\n",
      "- Medical records\n",
      "- Photographs or video footage of the crash scene\n",
      "- Witness statements\n",
      "- Other documents related to your injuries and damages.\n",
      "Once this information has been collected by both sides, negotiations may begin between your Austin truck accident lawyer and the insurance company on how much compensation should be offered in exchange for settling the case out of court.\n",
      "It is important to remember that every truck accident case is unique so there is no set timeline as far as when a settlement mig\".\n",
      "\n",
      "Write an informative and insightful blog post that expands upon the extract above. Your post should delve into the nuances of the topic, offering fresh perspectives and deeper analysis. Aim to:\n",
      "\n",
      "- Inform: Provide valuable, well-researched information that educates the reader.\n",
      "- Engage: Write in a conversational tone that connects with the audience, making complex ideas accessible.\n",
      "- Illustrate: Use examples, anecdotes, or personal experiences to bring the topic to life.\n",
      "Do not give a title and do not start with sentences like \"Have you ever...\" or \"Hello dear readers..\", simply write the content without these introductory phrases.\n",
      "\n",
      "Generated text:  When you've been involved in an auto accident, particularly one involving a commercial truck, receiving a settlement offer from the insurance company is often top of mind. After all, medical bills, lost wages, and property damage can quickly add up, leaving you financially strained. However, the timing of a settlement offer can vary greatly depending on several factors. Let's delve deeper into the nuances of this topic.\n",
      "\n",
      "First and foremost, before any settlement negotiation can occur, it's cruc...\n",
      "\n",
      "================================================================================\n",
      "\n",
      "Example 2:\n",
      "Prompt: Here is an extract from a webpage: \"The LISA Pathfinder scientific collaboration will meet in Trento, together with key representatives of the space agencies and industries that made the mission possible, to discuss the scientific results and to celebrate the outstanding success of the mission.\n",
      "LISA Pathfinder is the European Space Agency (ESA) precursor mission to the LISA space-based gravitational wave observatory that the agency is developing within the Cosmic Vision Programme. LISA Pathfinder has been developed within an international collaboration led by ESA and including the space agencies of France, Germany, Italy, Spain, Switzerland, The Netherlands and United Kingdom, and NASA.\n",
      "LISA Pathfinder has demonstrated that the sophisticated space-time measurements that are the core metrology for a gravitational wave observatory are indeed feasible, at and beyond the precision required by LISA, a leap of several orders of magnitude in the field of gravitational physics.\n",
      "As a consequence of these results, even exceeding t\".\n",
      "\n",
      "Write an extensive and detailed course unit suitable for a textbook targeted at college students, related to the given extract within the context of \"Astronomy and Astrophysics\". This unit should explore all pertinent concepts with in-depth explanations and technical detail. Focus on:\n",
      "\n",
      "- Rigor: Ensure in-depth coverage of the concepts.\n",
      "- Engagement: Write with an academic, professional and engaging tone that captivates interest.\n",
      "- Application: Incorporate specific, practical examples, such as proofs in calculus or critical dates and figures in history. Do not use images.\n",
      "\n",
      "Generated text:  Course Unit: LISA Pathfinder Mission and Gravitational Wave Detection\n",
      "\n",
      "1. Introduction\n",
      "Gravitational waves are ripples in spacetime caused by some of the most violent and energetic processes in the Universe, such as colliding neutron stars or merging black holes. These waves were first predicted by Albert Einstein in 1916 as part of his general theory of relativity, but they have never been directly detected until recently. The Laser Interferometer Space Antenna (LISA) Pathfinder mission, launc...\n",
      "\n",
      "================================================================================\n",
      "\n",
      "Example 3:\n",
      "Prompt: Here is an extract from a webpage: \"Recording of Present Day: Math’s Greatest Hits, “Analysis” with Alex Kontorovich\n",
      "This is a recording of a live-streamed event that took place on Monday, November 16, 2020.\n",
      "Appropriate for ages 14 and up.\n",
      "Please note that MoMath’s video recordings are meant to be viewed by only you — kindly do not show this video to others, distribute it, or post it to social media.\n",
      "To learn about MoMath’s policies regarding video recordings, visit videos.momath.org.\".\n",
      "\n",
      "Write an informative and insightful blog post that expands upon the extract above within the context of \"Education\". Your post should delve into the nuances of the topic, offering fresh perspectives or deeper analysis. Aim to:\n",
      "\n",
      "- Inform: Provide valuable, well-researched information that educates the reader.\n",
      "- Engage: Write in a conversational tone that connects with the audience, making complex ideas accessible.\n",
      "- Illustrate: Use examples, anecdotes, or personal experiences to bring the topic to life.\n",
      "\n",
      "\n",
      "Generated text:  Title: Making Mathematics Accessible: The Importance of Age-Appropriate Content and Video Recordings\n",
      "\n",
      "Introduction\n",
      "\n",
      "The world of mathematics can often seem intimidating and exclusive, but efforts to make it more approachable and engaging have been gaining traction. One such organization working towards broadening accessibility to math concepts is the Museum of Mathematics (MoMath), which recently hosted a live-streamed event titled \"Present Day: Math's Greatest Hits – Analysis\" featuring mathem...\n",
      "\n",
      "================================================================================\n",
      "\n",
      "Dataset Statistics:\n",
      "Total number of examples: 100000\n",
      "Average text length: 4042 characters\n"
     ]
    },
    {
     "name": "stderr",
     "output_type": "stream",
     "text": [
      "\n"
     ]
    }
   ],
   "source": [
    "from datasets import load_dataset\n",
    "import random\n",
    "\n",
    "# Load the Cosmopedia-100K dataset\n",
    "dataset = load_dataset(\"HuggingFaceTB/cosmopedia-100k\")\n",
    "\n",
    "# Define some varied prompts to test\n",
    "varied_prompts = [\n",
    "    \"Write a scientific article about black holes\",\n",
    "    \"Compose a historical essay about ancient Rome\",\n",
    "    \"Create a technical guide about machine learning\",\n",
    "    \"Write a philosophical discussion about consciousness\",\n",
    "    \"Explain quantum physics for beginners\"\n",
    "]\n",
    "\n",
    "# Look at examples with different prompts\n",
    "print(\"\\nExamining Cosmopedia synthetic data samples with varied prompts:\\n\")\n",
    "\n",
    "# Get random samples and pair with different prompts\n",
    "samples = dataset['train'].select(random.sample(range(len(dataset['train'])), 5))\n",
    "\n",
    "for i, (example, prompt) in enumerate(zip(samples, varied_prompts)):\n",
    "    print(f\"\\nExample {i+1}:\")\n",
    "    print(f\"Original Prompt: {example['prompt']}\")\n",
    "    print(f\"Alternative Prompt: {prompt}\")\n",
    "    print(f\"\\nGenerated text: {example['text'][:500]}...\")  # Show first 500 chars\n",
    "    print(\"\\n\" + \"=\"*80)\n",
    "\n",
    "# Analyze dataset statistics\n",
    "print(\"\\nDataset Statistics:\")\n",
    "print(f\"Total number of examples: {len(dataset['train'])}\")\n",
    "print(f\"Average text length: {sum(len(ex['text']) for ex in dataset['train'].select(range(100)))/100:.0f} characters\")\n",
    "\n",
    "# Analyze prompt diversity\n",
    "unique_prompts = set(example['prompt'] for example in dataset['train'].select(range(1000)))\n",
    "print(f\"Number of unique prompts in first 1000 examples: {len(unique_prompts)}\")\n"
   ]
  },
  {
   "cell_type": "code",
   "execution_count": null,
   "metadata": {},
   "outputs": [],
   "source": []
  }
 ],
 "metadata": {
  "kernelspec": {
   "display_name": "Python 3",
   "language": "python",
   "name": "python3"
  },
  "language_info": {
   "codemirror_mode": {
    "name": "ipython",
    "version": 3
   },
   "file_extension": ".py",
   "mimetype": "text/x-python",
   "name": "python",
   "nbconvert_exporter": "python",
   "pygments_lexer": "ipython3",
   "version": "3.11.6"
  }
 },
 "nbformat": 4,
 "nbformat_minor": 2
}
